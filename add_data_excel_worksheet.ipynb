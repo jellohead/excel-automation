{
 "cells": [
  {
   "attachments": {},
   "cell_type": "markdown",
   "metadata": {},
   "source": [
    "### ChatGPT generated code to automate adding a new data series to an existing worksheet\n",
    "#### This adds the new data as rows\n",
    "#### updated to use concat vs append to write new data to worksheet"
   ]
  },
  {
   "cell_type": "code",
   "execution_count": 1,
   "metadata": {},
   "outputs": [],
   "source": [
    "import pandas as pd\n",
    "import xlsxwriter\n",
    "\n",
    "# Load the existing Excel file\n",
    "existing_file_path = \"Practice2.xlsx\"\n",
    "df_existing = pd.read_excel(existing_file_path)\n"
   ]
  },
  {
   "cell_type": "code",
   "execution_count": 2,
   "metadata": {},
   "outputs": [
    {
     "name": "stdout",
     "output_type": "stream",
     "text": [
      "New data series appended to sheet 'Sheet2' in 'Practice2.xlsx'.\n",
      "   Column4  Column5  Column6\n",
      "0        1        4        7\n",
      "1        2        5        8\n",
      "2        3        6        9\n"
     ]
    }
   ],
   "source": [
    "\n",
    "# Create a new data series as a pandas DataFrame\n",
    "new_data = pd.DataFrame({'Column4': [1, 2, 3],\n",
    "                         'Column5': [4, 5, 6],\n",
    "                         'Column6': [7, 8, 9]})\n",
    "\n",
    "# Append the new data series to the existing DataFrame\n",
    "# append method will be deprecated. Use concat instead.\n",
    "#df_updated = df_existing.append(new_data, ignore_index=True)\n",
    "\n",
    "# Try using concat instead of append\n",
    "df_updated = pd.concat([df_existing, pd.DataFrame.from_records(new_data)])\n",
    "\n",
    "# Write the updated DataFrame to a new sheet in the existing Excel file\n",
    "updated_sheet_name = \"Sheet2\"  # Choose a name for the new sheet\n",
    "with pd.ExcelWriter(existing_file_path, engine='openpyxl', mode='a', if_sheet_exists='overlay') as writer:\n",
    "    df_updated.to_excel(writer, sheet_name=updated_sheet_name, index=False)\n",
    "\n",
    "print(f\"New data series appended to sheet '{updated_sheet_name}' in '{existing_file_path}'.\")\n",
    "print(df_updated)\n"
   ]
  },
  {
   "attachments": {},
   "cell_type": "markdown",
   "metadata": {},
   "source": [
    "### Use concat to append new data to existing data"
   ]
  },
  {
   "cell_type": "code",
   "execution_count": null,
   "metadata": {},
   "outputs": [],
   "source": [
    "df=pd.concat([df_existing, pd.DataFrame.from_records([{'Column1': [1, 2, 3],\n",
    "                         'Column2': [4, 5, 6],\n",
    "                         'Column3': [7, 8, 9]}])])\n",
    "\n",
    "df"
   ]
  },
  {
   "attachments": {},
   "cell_type": "markdown",
   "metadata": {},
   "source": [
    "### Add a new column to an existing excel workbook"
   ]
  },
  {
   "cell_type": "code",
   "execution_count": 6,
   "metadata": {},
   "outputs": [
    {
     "name": "stdout",
     "output_type": "stream",
     "text": [
      "New column 'NewColumnAgain6' appended to 'Practice2.xlsx'.\n",
      "   NewColumnAgain4  NewColumnAgain5  NewColumnAgain6\n",
      "0               10               10               10\n",
      "1               20               20               20\n",
      "2               30               30               30\n"
     ]
    }
   ],
   "source": [
    "#import pandas as pd\n",
    "\n",
    "# Load the existing Excel file\n",
    "#existing_file_path = \"path/to/existing_excel_file.xlsx\"\n",
    "#df_existing = pd.read_excel(existing_file_path)\n",
    "\n",
    "# Create a new column as a pandas Series\n",
    "new_column_name = 'NewColumnAgain6'\n",
    "new_column_data = pd.Series([10, 20, 30], name=new_column_name)\n",
    "\n",
    "# Append the new column to the existing DataFrame\n",
    "df_existing[new_column_name] = new_column_data\n",
    "\n",
    "# Write the updated DataFrame to the existing Excel file\n",
    "updated_sheet_name = \"Sheet2\"\n",
    "with pd.ExcelWriter(existing_file_path, engine='openpyxl', mode='a', if_sheet_exists='overlay') as writer:\n",
    "    df_existing.to_excel(writer, sheet_name=updated_sheet_name, index=False)\n",
    "\n",
    "print(f\"New column '{new_column_name}' appended to '{existing_file_path}'.\")\n",
    "print(df_existing)\n"
   ]
  },
  {
   "attachments": {},
   "cell_type": "markdown",
   "metadata": {},
   "source": [
    "### Loop through and append multiple columns"
   ]
  },
  {
   "cell_type": "code",
   "execution_count": null,
   "metadata": {},
   "outputs": [],
   "source": [
    "i = 1\n",
    "\n",
    "# Write the updated DataFrame to the existing Excel file\n",
    "updated_sheet_name = \"Sheet2\"\n",
    "\n",
    "while i <= 25:\n",
    "    new_column_name = \"Column\" + str(i)\n",
    "    new_column_data = pd.Series([10, 20, 30], name=new_column_name)\n",
    "\n",
    "    # Append the new column to the existing DataFrame\n",
    "    df_existing[new_column_name] = new_column_data\n",
    "\n",
    "    with pd.ExcelWriter(existing_file_path, engine='openpyxl', mode='a', if_sheet_exists='overlay') as writer:\n",
    "        df_existing.to_excel(writer, sheet_name=updated_sheet_name, index=False)\n",
    "\n",
    "    i += 1\n",
    "\n",
    "print(\"New column '{new_column_name}' appended to '{existing_file_path}'.\")\n",
    "print(df_existing)\n"
   ]
  },
  {
   "attachments": {},
   "cell_type": "markdown",
   "metadata": {},
   "source": [
    "### Edit excel data in chart embedded in powerpoint slide"
   ]
  },
  {
   "cell_type": "code",
   "execution_count": 1,
   "metadata": {},
   "outputs": [],
   "source": [
    "from pptx import Presentation\n",
    "\n",
    "# Open the PowerPoint file\n",
    "prs = Presentation('../powerpoint_practice_files/Mah_60Day.pptx')\n",
    "\n",
    "# Get the first slide in the PowerPoint presentation\n",
    "# actually gets the 5th slide, with the index starting at 0\n",
    "slide = prs.slides[4]\n",
    "\n",
    "# Find the chart in the slide by its chart title\n",
    "chart_title = 'Chart Title'\n",
    "chart = None\n",
    "for shape in slide.shapes:\n",
    "    if shape.has_chart:\n",
    "        if shape.chart.has_title:\n",
    "            if shape.chart.chart_title.text_frame.text == chart_title:\n",
    "                chart = shape.chart\n",
    "                break\n",
    "\n",
    "# If the chart is found, update the data\n",
    "if chart is not None:\n",
    "    # Update the chart data\n",
    "    chart_data = [\n",
    "        ('Category 1', (1, 2, 3, 4)),\n",
    "        ('Category 2', (5, 6, 7, 8)),\n",
    "        ('Category 3', (9, 10, 11, 12)),\n",
    "    ]\n",
    "    chart.replace_data(chart_data)\n",
    "\n",
    "# Save the updated PowerPoint file\n",
    "prs.save('example_updated.pptx')\n"
   ]
  },
  {
   "cell_type": "code",
   "execution_count": 2,
   "metadata": {},
   "outputs": [
    {
     "ename": "AttributeError",
     "evalue": "'SlideShapes' object has no attribute 'chart'",
     "output_type": "error",
     "traceback": [
      "\u001b[0;31m---------------------------------------------------------------------------\u001b[0m",
      "\u001b[0;31mAttributeError\u001b[0m                            Traceback (most recent call last)",
      "\u001b[1;32m/Users/patescalona/Projects/Coding/python/excel-automation/automate_excel.ipynb Cell 12\u001b[0m in \u001b[0;36m1\n\u001b[1;32m      <a href='vscode-notebook-cell:/Users/patescalona/Projects/Coding/python/excel-automation/automate_excel.ipynb#X14sZmlsZQ%3D%3D?line=8'>9</a>\u001b[0m slide \u001b[39m=\u001b[39m prs\u001b[39m.\u001b[39mslides[\u001b[39m5\u001b[39m]\n\u001b[1;32m     <a href='vscode-notebook-cell:/Users/patescalona/Projects/Coding/python/excel-automation/automate_excel.ipynb#X14sZmlsZQ%3D%3D?line=10'>11</a>\u001b[0m \u001b[39m# Select the chart on the slide (assuming it's the first chart)\u001b[39;00m\n\u001b[0;32m---> <a href='vscode-notebook-cell:/Users/patescalona/Projects/Coding/python/excel-automation/automate_excel.ipynb#X14sZmlsZQ%3D%3D?line=11'>12</a>\u001b[0m chart \u001b[39m=\u001b[39m slide\u001b[39m.\u001b[39mshapes\u001b[39m.\u001b[39mchart[\u001b[39m0\u001b[39m]\u001b[39m.\u001b[39mchart\n\u001b[1;32m     <a href='vscode-notebook-cell:/Users/patescalona/Projects/Coding/python/excel-automation/automate_excel.ipynb#X14sZmlsZQ%3D%3D?line=13'>14</a>\u001b[0m \u001b[39m# Access the data in the chart\u001b[39;00m\n\u001b[1;32m     <a href='vscode-notebook-cell:/Users/patescalona/Projects/Coding/python/excel-automation/automate_excel.ipynb#X14sZmlsZQ%3D%3D?line=14'>15</a>\u001b[0m chart_data \u001b[39m=\u001b[39m ChartData(chart)\n",
      "\u001b[0;31mAttributeError\u001b[0m: 'SlideShapes' object has no attribute 'chart'"
     ]
    }
   ],
   "source": [
    "from pptx import Presentation\n",
    "from pptx.chart.data import ChartData\n",
    "\n",
    "# Load PowerPoint presentation\n",
    "pptx_file = '../powerpoint_practice_files/Mah_60Day.pptx'\n",
    "prs = Presentation(pptx_file)\n",
    "\n",
    "# Select the slide containing the chart (assuming it's the first slide)\n",
    "slide = prs.slides[5]\n",
    "\n",
    "# Select the chart on the slide (assuming it's the first chart)\n",
    "chart = slide.shapes.chart[0].chart\n",
    "\n",
    "# Access the data in the chart\n",
    "chart_data = ChartData(chart)\n",
    "\n",
    "# Update the categories (X-axis labels) and series data (Y-axis values)\n",
    "new_categories = ['Category 1', 'Category 2', 'Category 3', 'Category 4']\n",
    "new_series_data = [10, 20, 30, 40]\n",
    "chart_data.categories = new_categories\n",
    "chart_data.add_series('Series 1', new_series_data)\n",
    "\n",
    "# Refresh the chart to reflect the updated data\n",
    "chart.replace_data(chart_data)\n",
    "\n",
    "# Save the updated PowerPoint presentation\n",
    "updated_pptx_file = '../powerpoint_practice_files/updated_Mah_60day.pptx'\n",
    "prs.save(updated_pptx_file)\n",
    "\n",
    "print('Chart data updated successfully!')\n"
   ]
  },
  {
   "cell_type": "code",
   "execution_count": 3,
   "metadata": {},
   "outputs": [
    {
     "ename": "AttributeError",
     "evalue": "'NoneType' object has no attribute 'text'",
     "output_type": "error",
     "traceback": [
      "\u001b[0;31m---------------------------------------------------------------------------\u001b[0m",
      "\u001b[0;31mAttributeError\u001b[0m                            Traceback (most recent call last)",
      "\u001b[1;32m/Users/patescalona/Projects/Coding/python/excel-automation/automate_excel.ipynb Cell 13\u001b[0m in \u001b[0;36m1\n\u001b[1;32m      <a href='vscode-notebook-cell:/Users/patescalona/Projects/Coding/python/excel-automation/automate_excel.ipynb#X15sZmlsZQ%3D%3D?line=8'>9</a>\u001b[0m slide_number \u001b[39m=\u001b[39m \u001b[39mNone\u001b[39;00m\n\u001b[1;32m     <a href='vscode-notebook-cell:/Users/patescalona/Projects/Coding/python/excel-automation/automate_excel.ipynb#X15sZmlsZQ%3D%3D?line=10'>11</a>\u001b[0m \u001b[39mfor\u001b[39;00m idx, slide \u001b[39min\u001b[39;00m \u001b[39menumerate\u001b[39m(prs\u001b[39m.\u001b[39mslides):\n\u001b[0;32m---> <a href='vscode-notebook-cell:/Users/patescalona/Projects/Coding/python/excel-automation/automate_excel.ipynb#X15sZmlsZQ%3D%3D?line=11'>12</a>\u001b[0m     \u001b[39mif\u001b[39;00m slide\u001b[39m.\u001b[39mshapes\u001b[39m.\u001b[39mtitle\u001b[39m.\u001b[39mtext \u001b[39m==\u001b[39m target_slide_title:\n\u001b[1;32m     <a href='vscode-notebook-cell:/Users/patescalona/Projects/Coding/python/excel-automation/automate_excel.ipynb#X15sZmlsZQ%3D%3D?line=12'>13</a>\u001b[0m         slide_number \u001b[39m=\u001b[39m idx \u001b[39m+\u001b[39m \u001b[39m1\u001b[39m  \u001b[39m# Slide index is 0-based, but slide number is 1-based\u001b[39;00m\n\u001b[1;32m     <a href='vscode-notebook-cell:/Users/patescalona/Projects/Coding/python/excel-automation/automate_excel.ipynb#X15sZmlsZQ%3D%3D?line=13'>14</a>\u001b[0m         \u001b[39mbreak\u001b[39;00m\n",
      "\u001b[0;31mAttributeError\u001b[0m: 'NoneType' object has no attribute 'text'"
     ]
    }
   ],
   "source": [
    "from pptx import Presentation\n",
    "\n",
    "# Load PowerPoint presentation\n",
    "pptx_file = '../powerpoint_practice_files/Mah_60Day.pptx'\n",
    "prs = Presentation(pptx_file)\n",
    "\n",
    "# Find the slide you're interested in (e.g., by slide title)\n",
    "target_slide_title = 'Slide Title'  # Replace with the actual slide title\n",
    "slide_number = None\n",
    "\n",
    "if slide_number is not None:\n",
    "    print(f\"The slide '{target_slide_title}' is slide number {slide_number}.\")\n",
    "else:\n",
    "    print(f\"No slide found with the title '{target_slide_title}'.\")\n",
    "\n"
   ]
  },
  {
   "attachments": {},
   "cell_type": "markdown",
   "metadata": {},
   "source": [
    "### chatgpt: write a python script to open a powerpoint presentation, select a specific chart on a specific slide, open the excel chart data,  and insert a new column of data"
   ]
  },
  {
   "cell_type": "code",
   "execution_count": null,
   "metadata": {},
   "outputs": [],
   "source": [
    "import pandas as pd\n",
    "from pptx import Presentation\n",
    "\n",
    "# Load the PowerPoint presentation\n",
    "presentation = Presentation('../powerpoint_practice_files/template1.pptx')\n",
    "\n",
    "# Select a specific slide by index (0-based)\n",
    "slide_index = 1\n",
    "slide = presentation.slides[slide_index]\n",
    "\n",
    "# Select a specific chart on the slide by index (0-based)\n",
    "chart_index = 0\n",
    "chart = slide.shapes[chart_index].chart\n",
    "\n",
    "# Open the Excel chart data\n",
    "excel_file_path = 'chart_data.xlsx'\n",
    "df = pd.read_excel(excel_file_path)\n",
    "\n",
    "# Create a new column of data\n",
    "new_column_name = 'New Column'\n",
    "new_column_data = [1, 2, 3, 4, 5]  # Replace with your desired data\n",
    "\n",
    "# Insert the new column into the DataFrame\n",
    "df[new_column_name] = new_column_data\n",
    "\n",
    "# Update the chart data\n",
    "chart_data = pd.DataFrame(chart.chart_data.workbook.sheets[0])\n",
    "chart_data['Category'] = df.index\n",
    "chart_data['Value'] = df[new_column_name].values\n",
    "\n",
    "# Save the updated Excel file\n",
    "df.to_excel(excel_file_path, index=False)\n",
    "\n",
    "# Save the updated PowerPoint presentation\n",
    "presentation.save('updated_example.pptx')\n"
   ]
  }
 ],
 "metadata": {
  "kernelspec": {
   "display_name": "Python 3",
   "language": "python",
   "name": "python3"
  },
  "language_info": {
   "codemirror_mode": {
    "name": "ipython",
    "version": 3
   },
   "file_extension": ".py",
   "mimetype": "text/x-python",
   "name": "python",
   "nbconvert_exporter": "python",
   "pygments_lexer": "ipython3",
   "version": "3.10.6"
  },
  "orig_nbformat": 4
 },
 "nbformat": 4,
 "nbformat_minor": 2
}
