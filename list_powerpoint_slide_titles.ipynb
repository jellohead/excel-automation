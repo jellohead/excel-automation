{
 "cells": [
  {
   "attachments": {},
   "cell_type": "markdown",
   "metadata": {},
   "source": [
    "### Show the slide title for a specific powerpoint slide"
   ]
  },
  {
   "cell_type": "code",
   "execution_count": 8,
   "metadata": {},
   "outputs": [
    {
     "name": "stdout",
     "output_type": "stream",
     "text": [
      "The title of slide 1 is: 'Very First Slide'\n"
     ]
    }
   ],
   "source": [
    "from pptx import Presentation\n",
    "\n",
    "# Load PowerPoint presentation\n",
    "pptx_file = '../../SPSS-Python/powerpoint_practice_files/Mah_60Day.pptx'\n",
    "prs = Presentation(pptx_file)\n",
    "\n",
    "# Specify the slide number (1-based) for which you want to get the title\n",
    "target_slide_number = 1  # Replace with the desired slide number\n",
    "\n",
    "# Check if the specified slide number is within the valid range\n",
    "if target_slide_number < 1 or target_slide_number > len(prs.slides):\n",
    "    print(\"Error: Invalid slide number.\")\n",
    "else:\n",
    "    # Get the slide at the specified slide number\n",
    "    slide = prs.slides[target_slide_number - 1]  # Slide index is 0-based, but slide number is 1-based\n",
    "\n",
    "    # Get the title of the slide\n",
    "    title_shape = slide.shapes.title\n",
    "    if title_shape:\n",
    "        print(f\"The title of slide {target_slide_number} is: '{title_shape.text}'\")\n",
    "    else:\n",
    "        print(f\"Slide {target_slide_number} does not have a title.\")\n"
   ]
  },
  {
   "attachments": {},
   "cell_type": "markdown",
   "metadata": {},
   "source": [
    "### Loop through and return slide numbers that contain charts"
   ]
  },
  {
   "cell_type": "code",
   "execution_count": null,
   "metadata": {},
   "outputs": [],
   "source": [
    "from pptx import Presentation\n",
    "\n",
    "# Load PowerPoint presentation\n",
    "pptx_file = '../../SPSS-Python/powerpoint_practice_files/Mah_60Day.pptx'\n",
    "prs = Presentation(pptx_file)\n",
    "\n",
    "# Loop through all slides and print slide titles\n",
    "print('Slide Titles:')\n",
    "for idx, slide in enumerate (prs.slides):\n",
    "    # if slide.shapes.title.text:  # Check if the slide has a title\n",
    "    if slide.shapes.title:  # Check if the slide has a title\n",
    "        print('Slide #', (idx+1), slide.shapes.title.text)\n",
    "    else:\n",
    "        print('No Title')  # Print 'No Title' if the slide doesn't have a title\n"
   ]
  },
  {
   "attachments": {},
   "cell_type": "markdown",
   "metadata": {},
   "source": [
    "### Loop through powerpoint presentation and list chart titles"
   ]
  },
  {
   "cell_type": "code",
   "execution_count": 19,
   "metadata": {},
   "outputs": [
    {
     "name": "stdout",
     "output_type": "stream",
     "text": [
      "Slide 6 contains a chart.\n",
      "Slide 7 contains a chart.\n",
      "Slide 8 contains a chart.\n",
      "Slide 9 contains a chart.\n",
      "Slide 10 contains a chart.\n",
      "Slide 12 contains a chart.\n",
      "Slide 14 contains a chart.\n",
      "Slide 17 contains a chart.\n",
      "Slide 18 contains a chart.\n",
      "Slide 19 contains a chart.\n",
      "Slide 20 contains a chart.\n",
      "Slide 21 contains a chart.\n",
      "Slide 23 contains a chart.\n",
      "Slide 25 contains a chart.\n",
      "Slide 28 contains a chart.\n",
      "Slide 29 contains a chart.\n",
      "Slide 30 contains a chart.\n",
      "Slide 31 contains a chart.\n",
      "Slide 32 contains a chart.\n",
      "Slide 34 contains a chart.\n",
      "Slide 36 contains a chart.\n",
      "Slide 39 contains a chart.\n",
      "Slide 40 contains a chart.\n",
      "Slide 41 contains a chart.\n",
      "Slide 42 contains a chart.\n",
      "Slide 43 contains a chart.\n",
      "Slide 45 contains a chart.\n",
      "Slide 47 contains a chart.\n",
      "Slide 50 contains a chart.\n",
      "Slide 51 contains a chart.\n",
      "Slide 52 contains a chart.\n",
      "Slide 53 contains a chart.\n",
      "Slide 54 contains a chart.\n",
      "Slide 56 contains a chart.\n",
      "Slide 58 contains a chart.\n",
      "Slide 61 contains a chart.\n",
      "Slide 62 contains a chart.\n",
      "Slide 63 contains a chart.\n",
      "Slide 64 contains a chart.\n",
      "Slide 65 contains a chart.\n",
      "Slide 67 contains a chart.\n",
      "Slide 69 contains a chart.\n",
      "Slide 72 contains a chart.\n",
      "Slide 73 contains a chart.\n",
      "Slide 74 contains a chart.\n",
      "Slide 75 contains a chart.\n",
      "Slide 76 contains a chart.\n",
      "Slide 78 contains a chart.\n",
      "Slide 80 contains a chart.\n",
      "Slide 82 contains a chart.\n",
      "Slide 83 contains a chart.\n",
      "Slide 84 contains a chart.\n",
      "Slide 85 contains a chart.\n",
      "Slide 86 contains a chart.\n",
      "Slide 88 contains a chart.\n",
      "Slide 90 contains a chart.\n",
      "Slide 92 contains a chart.\n",
      "Slide 93 contains a chart.\n",
      "Slide 94 contains a chart.\n",
      "Slide 95 contains a chart.\n",
      "Slide 96 contains a chart.\n",
      "Slide 98 contains a chart.\n",
      "Slide 99 contains a chart.\n",
      "Slide 100 contains a chart.\n",
      "Slide 101 contains a chart.\n",
      "Slide 102 contains a chart.\n",
      "Slide 108 contains a chart.\n",
      "Slide 109 contains a chart.\n"
     ]
    }
   ],
   "source": [
    "from pptx import Presentation\n",
    "\n",
    "# Load PowerPoint presentation\n",
    "pptx_file = '../../SPSS-Python/powerpoint_practice_files/Mah_60Day.pptx'\n",
    "prs = Presentation(pptx_file)\n",
    "\n",
    "# Loop through all slides and check for charts\n",
    "for slide_number, slide in enumerate(prs.slides, start=1):\n",
    "    has_chart = False\n",
    "    for shape in slide.shapes:\n",
    "        if shape.has_chart:\n",
    "            has_chart = True\n",
    "            break\n",
    "    if has_chart:\n",
    "        print(f\"Slide {slide_number} contains a chart.\")\n"
   ]
  },
  {
   "attachments": {},
   "cell_type": "markdown",
   "metadata": {},
   "source": [
    "### chatgpt: write a python script to loop through a powerpoint presentation and return slide number and chart placeholder number for each chart"
   ]
  },
  {
   "cell_type": "code",
   "execution_count": null,
   "metadata": {},
   "outputs": [],
   "source": [
    "from pptx import Presentation\n",
    "\n",
    "# Load PowerPoint presentation\n",
    "pptx_file = '../../SPSS-Python/powerpoint_practice_files/Mah_60Day.pptx'\n",
    "prs = Presentation(pptx_file)\n",
    "\n",
    "# Loop through all slides\n",
    "for slide_number, slide in enumerate(prs.slides, start=1):\n",
    "    for shape_number, shape in enumerate(slide.shapes, start=1):\n",
    "        if shape.has_chart:\n",
    "            chart_placeholder_number = shape_number\n",
    "            print(f\"Slide {slide_number}, Chart Placeholder {chart_placeholder_number}\")\n"
   ]
  },
  {
   "attachments": {},
   "cell_type": "markdown",
   "metadata": {},
   "source": [
    "### chatgpt: write a python script to loop through a powerpoint presentation and return slide number, chart placeholder number, and chart title for each chart\n",
    "\n"
   ]
  },
  {
   "cell_type": "code",
   "execution_count": null,
   "metadata": {},
   "outputs": [],
   "source": [
    "from pptx import Presentation\n",
    "\n",
    "# Load PowerPoint presentation\n",
    "pptx_file = '../../SPSS-Python/powerpoint_practice_files/Mah_60Day.pptx'\n",
    "prs = Presentation(pptx_file)\n",
    "\n",
    "# Loop through all slides\n",
    "for slide_number, slide in enumerate(prs.slides, start=1):\n",
    "    for shape_number, shape in enumerate(slide.shapes, start=1):\n",
    "        if shape.has_chart:\n",
    "            chart_placeholder_number = shape_number\n",
    "            chart_title = shape.chart.chart_title.text_frame.text if shape.chart.has_title else \"\"\n",
    "            print(f\"Slide {slide_number}, Chart Placeholder {chart_placeholder_number}, Chart Title: {chart_title}\")\n"
   ]
  },
  {
   "attachments": {},
   "cell_type": "markdown",
   "metadata": {},
   "source": [
    "### chatgpt: write a python script to loop through a powerpoint presentation and return slide number,  placeholder type, and placeholder  number for each placeholder"
   ]
  },
  {
   "cell_type": "code",
   "execution_count": 25,
   "metadata": {},
   "outputs": [
    {
     "name": "stdout",
     "output_type": "stream",
     "text": [
      "Slide 1, Placeholder Number: 1, Placeholder Type: TITLE (1)\n",
      "Slide 1, Placeholder Number: 2, Placeholder Type: OBJECT (7)\n",
      "Slide 1, Placeholder Number: 13, Placeholder Type: SLIDE_NUMBER (13)\n",
      "Slide 3, Placeholder Number: 1, Placeholder Type: TITLE (1)\n",
      "Slide 3, Placeholder Number: 2, Placeholder Type: OBJECT (7)\n",
      "Slide 3, Placeholder Number: 13, Placeholder Type: SLIDE_NUMBER (13)\n",
      "Slide 4, Placeholder Number: 1, Placeholder Type: TITLE (1)\n",
      "Slide 4, Placeholder Number: 2, Placeholder Type: OBJECT (7)\n",
      "Slide 6, Placeholder Number: 1, Placeholder Type: TITLE (1)\n",
      "Slide 7, Placeholder Number: 1, Placeholder Type: TITLE (1)\n",
      "Slide 7, Placeholder Number: 5, Placeholder Type: SLIDE_NUMBER (13)\n",
      "Slide 8, Placeholder Number: 1, Placeholder Type: TITLE (1)\n",
      "Slide 8, Placeholder Number: 5, Placeholder Type: SLIDE_NUMBER (13)\n",
      "Slide 9, Placeholder Number: 1, Placeholder Type: TITLE (1)\n",
      "Slide 9, Placeholder Number: 5, Placeholder Type: SLIDE_NUMBER (13)\n",
      "Slide 10, Placeholder Number: 1, Placeholder Type: TITLE (1)\n",
      "Slide 10, Placeholder Number: 5, Placeholder Type: SLIDE_NUMBER (13)\n",
      "Slide 11, Placeholder Number: 1, Placeholder Type: TITLE (1)\n",
      "Slide 12, Placeholder Number: 1, Placeholder Type: TITLE (1)\n",
      "Slide 12, Placeholder Number: 5, Placeholder Type: SLIDE_NUMBER (13)\n",
      "Slide 13, Placeholder Number: 1, Placeholder Type: TITLE (1)\n",
      "Slide 13, Placeholder Number: 5, Placeholder Type: SLIDE_NUMBER (13)\n",
      "Slide 14, Placeholder Number: 1, Placeholder Type: TITLE (1)\n",
      "Slide 14, Placeholder Number: 5, Placeholder Type: SLIDE_NUMBER (13)\n",
      "Slide 21, Placeholder Number: 1, Placeholder Type: TITLE (1)\n",
      "Slide 21, Placeholder Number: 5, Placeholder Type: SLIDE_NUMBER (13)\n",
      "Slide 22, Placeholder Number: 1, Placeholder Type: TITLE (1)\n",
      "Slide 23, Placeholder Number: 1, Placeholder Type: TITLE (1)\n",
      "Slide 23, Placeholder Number: 5, Placeholder Type: SLIDE_NUMBER (13)\n",
      "Slide 24, Placeholder Number: 1, Placeholder Type: TITLE (1)\n",
      "Slide 24, Placeholder Number: 5, Placeholder Type: SLIDE_NUMBER (13)\n",
      "Slide 25, Placeholder Number: 1, Placeholder Type: TITLE (1)\n",
      "Slide 25, Placeholder Number: 5, Placeholder Type: SLIDE_NUMBER (13)\n",
      "Slide 32, Placeholder Number: 1, Placeholder Type: TITLE (1)\n",
      "Slide 32, Placeholder Number: 5, Placeholder Type: SLIDE_NUMBER (13)\n",
      "Slide 33, Placeholder Number: 1, Placeholder Type: TITLE (1)\n",
      "Slide 34, Placeholder Number: 1, Placeholder Type: TITLE (1)\n",
      "Slide 34, Placeholder Number: 5, Placeholder Type: SLIDE_NUMBER (13)\n",
      "Slide 35, Placeholder Number: 1, Placeholder Type: TITLE (1)\n",
      "Slide 35, Placeholder Number: 5, Placeholder Type: SLIDE_NUMBER (13)\n",
      "Slide 36, Placeholder Number: 1, Placeholder Type: TITLE (1)\n",
      "Slide 36, Placeholder Number: 5, Placeholder Type: SLIDE_NUMBER (13)\n",
      "Slide 43, Placeholder Number: 1, Placeholder Type: TITLE (1)\n",
      "Slide 43, Placeholder Number: 5, Placeholder Type: SLIDE_NUMBER (13)\n",
      "Slide 44, Placeholder Number: 1, Placeholder Type: TITLE (1)\n",
      "Slide 45, Placeholder Number: 1, Placeholder Type: TITLE (1)\n",
      "Slide 45, Placeholder Number: 5, Placeholder Type: SLIDE_NUMBER (13)\n",
      "Slide 46, Placeholder Number: 1, Placeholder Type: TITLE (1)\n",
      "Slide 46, Placeholder Number: 5, Placeholder Type: SLIDE_NUMBER (13)\n",
      "Slide 47, Placeholder Number: 1, Placeholder Type: TITLE (1)\n",
      "Slide 47, Placeholder Number: 5, Placeholder Type: SLIDE_NUMBER (13)\n",
      "Slide 54, Placeholder Number: 1, Placeholder Type: TITLE (1)\n",
      "Slide 54, Placeholder Number: 5, Placeholder Type: SLIDE_NUMBER (13)\n",
      "Slide 55, Placeholder Number: 1, Placeholder Type: TITLE (1)\n",
      "Slide 56, Placeholder Number: 1, Placeholder Type: TITLE (1)\n",
      "Slide 56, Placeholder Number: 5, Placeholder Type: SLIDE_NUMBER (13)\n",
      "Slide 57, Placeholder Number: 1, Placeholder Type: TITLE (1)\n",
      "Slide 57, Placeholder Number: 5, Placeholder Type: SLIDE_NUMBER (13)\n",
      "Slide 58, Placeholder Number: 1, Placeholder Type: TITLE (1)\n",
      "Slide 58, Placeholder Number: 5, Placeholder Type: SLIDE_NUMBER (13)\n",
      "Slide 65, Placeholder Number: 1, Placeholder Type: TITLE (1)\n",
      "Slide 65, Placeholder Number: 5, Placeholder Type: SLIDE_NUMBER (13)\n",
      "Slide 66, Placeholder Number: 1, Placeholder Type: TITLE (1)\n",
      "Slide 67, Placeholder Number: 1, Placeholder Type: TITLE (1)\n",
      "Slide 67, Placeholder Number: 5, Placeholder Type: SLIDE_NUMBER (13)\n",
      "Slide 68, Placeholder Number: 1, Placeholder Type: TITLE (1)\n",
      "Slide 68, Placeholder Number: 5, Placeholder Type: SLIDE_NUMBER (13)\n",
      "Slide 69, Placeholder Number: 1, Placeholder Type: TITLE (1)\n",
      "Slide 69, Placeholder Number: 5, Placeholder Type: SLIDE_NUMBER (13)\n",
      "Slide 76, Placeholder Number: 1, Placeholder Type: TITLE (1)\n",
      "Slide 76, Placeholder Number: 5, Placeholder Type: SLIDE_NUMBER (13)\n",
      "Slide 77, Placeholder Number: 1, Placeholder Type: TITLE (1)\n",
      "Slide 78, Placeholder Number: 1, Placeholder Type: TITLE (1)\n",
      "Slide 78, Placeholder Number: 5, Placeholder Type: SLIDE_NUMBER (13)\n",
      "Slide 79, Placeholder Number: 1, Placeholder Type: TITLE (1)\n",
      "Slide 79, Placeholder Number: 5, Placeholder Type: SLIDE_NUMBER (13)\n",
      "Slide 80, Placeholder Number: 1, Placeholder Type: TITLE (1)\n",
      "Slide 80, Placeholder Number: 5, Placeholder Type: SLIDE_NUMBER (13)\n",
      "Slide 86, Placeholder Number: 1, Placeholder Type: TITLE (1)\n",
      "Slide 86, Placeholder Number: 5, Placeholder Type: SLIDE_NUMBER (13)\n",
      "Slide 87, Placeholder Number: 1, Placeholder Type: TITLE (1)\n",
      "Slide 88, Placeholder Number: 1, Placeholder Type: TITLE (1)\n",
      "Slide 88, Placeholder Number: 5, Placeholder Type: SLIDE_NUMBER (13)\n",
      "Slide 89, Placeholder Number: 1, Placeholder Type: TITLE (1)\n",
      "Slide 89, Placeholder Number: 5, Placeholder Type: SLIDE_NUMBER (13)\n",
      "Slide 90, Placeholder Number: 1, Placeholder Type: TITLE (1)\n",
      "Slide 90, Placeholder Number: 5, Placeholder Type: SLIDE_NUMBER (13)\n",
      "Slide 96, Placeholder Number: 1, Placeholder Type: TITLE (1)\n",
      "Slide 96, Placeholder Number: 5, Placeholder Type: SLIDE_NUMBER (13)\n",
      "Slide 109, Placeholder Number: 1, Placeholder Type: TITLE (1)\n",
      "Slide 110, Placeholder Number: 1, Placeholder Type: TITLE (1)\n",
      "Slide 111, Placeholder Number: 1, Placeholder Type: TITLE (1)\n",
      "Slide 112, Placeholder Number: 1, Placeholder Type: TITLE (1)\n",
      "Slide 113, Placeholder Number: 1, Placeholder Type: TITLE (1)\n",
      "Slide 115, Placeholder Number: 1, Placeholder Type: TITLE (1)\n"
     ]
    }
   ],
   "source": [
    "from pptx import Presentation\n",
    "from pptx.util import Pt\n",
    "\n",
    "# Load PowerPoint presentation\n",
    "pptx_file = '../../SPSS-Python/powerpoint_practice_files/Mah_60Day.pptx'\n",
    "prs = Presentation(pptx_file)\n",
    "\n",
    "# Loop through all slides\n",
    "for slide_number, slide in enumerate(prs.slides, start=1):\n",
    "    for shape_number, shape in enumerate(slide.shapes, start=1):\n",
    "        if shape.is_placeholder:\n",
    "            placeholder_number = shape.placeholder_format.idx + 1\n",
    "            placeholder_type = shape.placeholder_format.type\n",
    "            print(f\"Slide {slide_number}, Placeholder Number: {placeholder_number}, Placeholder Type: {placeholder_type}\")\n"
   ]
  }
 ],
 "metadata": {
  "kernelspec": {
   "display_name": "Python 3",
   "language": "python",
   "name": "python3"
  },
  "language_info": {
   "codemirror_mode": {
    "name": "ipython",
    "version": 3
   },
   "file_extension": ".py",
   "mimetype": "text/x-python",
   "name": "python",
   "nbconvert_exporter": "python",
   "pygments_lexer": "ipython3",
   "version": "3.10.7"
  },
  "orig_nbformat": 4
 },
 "nbformat": 4,
 "nbformat_minor": 2
}
