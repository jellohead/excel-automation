{
 "cells": [
  {
   "attachments": {},
   "cell_type": "markdown",
   "metadata": {},
   "source": [
    "### ChatGPT generated code to automate a new data series to an existing worksheet\n",
    "#### This adds the new data as rows\n",
    "#### updated to use concat vs append to write new data to worksheet"
   ]
  },
  {
   "cell_type": "code",
   "execution_count": 1,
   "metadata": {},
   "outputs": [],
   "source": [
    "import pandas as pd\n",
    "import xlsxwriter\n",
    "\n",
    "# Load the existing Excel file\n",
    "existing_file_path = \"Practice2.xlsx\"\n",
    "df_existing = pd.read_excel(existing_file_path)\n"
   ]
  },
  {
   "cell_type": "code",
   "execution_count": 2,
   "metadata": {},
   "outputs": [
    {
     "name": "stdout",
     "output_type": "stream",
     "text": [
      "New data series appended to sheet 'Sheet2' in 'Practice2.xlsx'.\n",
      "   Column4  Column5  Column6\n",
      "0        1        4        7\n",
      "1        2        5        8\n",
      "2        3        6        9\n"
     ]
    }
   ],
   "source": [
    "\n",
    "# Create a new data series as a pandas DataFrame\n",
    "new_data = pd.DataFrame({'Column4': [1, 2, 3],\n",
    "                         'Column5': [4, 5, 6],\n",
    "                         'Column6': [7, 8, 9]})\n",
    "\n",
    "# Append the new data series to the existing DataFrame\n",
    "# append method will be deprecated. Use concat instead.\n",
    "#df_updated = df_existing.append(new_data, ignore_index=True)\n",
    "\n",
    "# Try using concat instead of append\n",
    "df_updated = pd.concat([df_existing, pd.DataFrame.from_records(new_data)])\n",
    "\n",
    "# Write the updated DataFrame to a new sheet in the existing Excel file\n",
    "updated_sheet_name = \"Sheet2\"  # Choose a name for the new sheet\n",
    "with pd.ExcelWriter(existing_file_path, engine='openpyxl', mode='a', if_sheet_exists='overlay') as writer:\n",
    "    df_updated.to_excel(writer, sheet_name=updated_sheet_name, index=False)\n",
    "\n",
    "print(f\"New data series appended to sheet '{updated_sheet_name}' in '{existing_file_path}'.\")\n",
    "print(df_updated)\n"
   ]
  },
  {
   "attachments": {},
   "cell_type": "markdown",
   "metadata": {},
   "source": [
    "### Use concat to append new data to existing data"
   ]
  },
  {
   "cell_type": "code",
   "execution_count": null,
   "metadata": {},
   "outputs": [],
   "source": [
    "df=pd.concat([df_existing, pd.DataFrame.from_records([{'Column1': [1, 2, 3],\n",
    "                         'Column2': [4, 5, 6],\n",
    "                         'Column3': [7, 8, 9]}])])\n",
    "\n",
    "df"
   ]
  },
  {
   "attachments": {},
   "cell_type": "markdown",
   "metadata": {},
   "source": [
    "### Add a new column to an existing excel workbook"
   ]
  },
  {
   "cell_type": "code",
   "execution_count": 6,
   "metadata": {},
   "outputs": [
    {
     "name": "stdout",
     "output_type": "stream",
     "text": [
      "New column 'NewColumnAgain6' appended to 'Practice2.xlsx'.\n",
      "   NewColumnAgain4  NewColumnAgain5  NewColumnAgain6\n",
      "0               10               10               10\n",
      "1               20               20               20\n",
      "2               30               30               30\n"
     ]
    }
   ],
   "source": [
    "#import pandas as pd\n",
    "\n",
    "# Load the existing Excel file\n",
    "#existing_file_path = \"path/to/existing_excel_file.xlsx\"\n",
    "#df_existing = pd.read_excel(existing_file_path)\n",
    "\n",
    "# Create a new column as a pandas Series\n",
    "new_column_name = 'NewColumnAgain6'\n",
    "new_column_data = pd.Series([10, 20, 30], name=new_column_name)\n",
    "\n",
    "# Append the new column to the existing DataFrame\n",
    "df_existing[new_column_name] = new_column_data\n",
    "\n",
    "# Write the updated DataFrame to the existing Excel file\n",
    "updated_sheet_name = \"Sheet2\"\n",
    "with pd.ExcelWriter(existing_file_path, engine='openpyxl', mode='a', if_sheet_exists='overlay') as writer:\n",
    "    df_existing.to_excel(writer, sheet_name=updated_sheet_name, index=False)\n",
    "\n",
    "print(f\"New column '{new_column_name}' appended to '{existing_file_path}'.\")\n",
    "print(df_existing)\n"
   ]
  },
  {
   "attachments": {},
   "cell_type": "markdown",
   "metadata": {},
   "source": [
    "### Loop through and append multiple columns"
   ]
  },
  {
   "cell_type": "code",
   "execution_count": 18,
   "metadata": {},
   "outputs": [
    {
     "name": "stdout",
     "output_type": "stream",
     "text": [
      "New column 'Column25' appended to 'Practice2.xlsx'.\n",
      "   NewColumnAgain4  NewColumnAgain5  NewColumnAgain6  Column  Column1  \\\n",
      "0               10               10               10      10       10   \n",
      "1               20               20               20      20       20   \n",
      "2               30               30               30      30       30   \n",
      "\n",
      "   Column2  Column3  Column4  Column5  Column6  ...  Column16  Column17  \\\n",
      "0       10       10       10       10       10  ...        10        10   \n",
      "1       20       20       20       20       20  ...        20        20   \n",
      "2       30       30       30       30       30  ...        30        30   \n",
      "\n",
      "   Column18  Column19  Column20  Column21  Column22  Column23  Column24  \\\n",
      "0        10        10        10        10        10        10        10   \n",
      "1        20        20        20        20        20        20        20   \n",
      "2        30        30        30        30        30        30        30   \n",
      "\n",
      "   Column25  \n",
      "0        10  \n",
      "1        20  \n",
      "2        30  \n",
      "\n",
      "[3 rows x 29 columns]\n"
     ]
    }
   ],
   "source": [
    "#import pandas as pd\n",
    "\n",
    "# Load the existing Excel file\n",
    "#existing_file_path = \"path/to/existing_excel_file.xlsx\"\n",
    "#df_existing = pd.read_excel(existing_file_path)\n",
    "\n",
    "i = 1\n",
    "\n",
    "# Create a new column as a pandas Series\n",
    "#new_column_name = 'NewColumnAgain6'\n",
    "#new_column_data = pd.Series([10, 20, 30], name=new_column_name)\n",
    "\n",
    "# Append the new column to the existing DataFrame\n",
    "# df_existing[new_column_name] = new_column_data\n",
    "\n",
    "# Write the updated DataFrame to the existing Excel file\n",
    "updated_sheet_name = \"Sheet2\"\n",
    "#column_name = ('Column', i)\n",
    "\n",
    "while i <= 25:\n",
    "    new_column_name = \"Column\" + str(i)\n",
    "    new_column_data = pd.Series([10, 20, 30], name=new_column_name)\n",
    "\n",
    "    # Append the new column to the existing DataFrame\n",
    "    df_existing[new_column_name] = new_column_data\n",
    "\n",
    "    with pd.ExcelWriter(existing_file_path, engine='openpyxl', mode='a', if_sheet_exists='overlay') as writer:\n",
    "        df_existing.to_excel(writer, sheet_name=updated_sheet_name, index=False)\n",
    "\n",
    "    i += 1\n",
    "\n",
    "print(f\"New column '{new_column_name}' appended to '{existing_file_path}'.\")\n",
    "print(df_existing)\n"
   ]
  }
 ],
 "metadata": {
  "kernelspec": {
   "display_name": "Python 3",
   "language": "python",
   "name": "python3"
  },
  "language_info": {
   "codemirror_mode": {
    "name": "ipython",
    "version": 3
   },
   "file_extension": ".py",
   "mimetype": "text/x-python",
   "name": "python",
   "nbconvert_exporter": "python",
   "pygments_lexer": "ipython3",
   "version": "3.10.7"
  },
  "orig_nbformat": 4
 },
 "nbformat": 4,
 "nbformat_minor": 2
}
